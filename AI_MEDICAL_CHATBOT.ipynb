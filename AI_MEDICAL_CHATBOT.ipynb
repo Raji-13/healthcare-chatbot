{
  "nbformat": 4,
  "nbformat_minor": 0,
  "metadata": {
    "colab": {
      "provenance": [],
      "mount_file_id": "1oCpBsMa2uUo4OQiV4US36q_Mzx31PAqD",
      "authorship_tag": "ABX9TyPrHNN0JmrBxViPOZVRtWXY",
      "include_colab_link": true
    },
    "kernelspec": {
      "name": "python3",
      "display_name": "Python 3"
    },
    "language_info": {
      "name": "python"
    },
    "gpuClass": "standard",
    "accelerator": "GPU"
  },
  "cells": [
    {
      "cell_type": "markdown",
      "metadata": {
        "id": "view-in-github",
        "colab_type": "text"
      },
      "source": [
        "<a href=\"https://colab.research.google.com/github/Raji-13/healthcare-chatbot/blob/master/AI_MEDICAL_CHATBOT.ipynb\" target=\"_parent\"><img src=\"https://colab.research.google.com/assets/colab-badge.svg\" alt=\"Open In Colab\"/></a>"
      ]
    },
    {
      "cell_type": "code",
      "source": [
        "import tkinter as Tk"
      ],
      "metadata": {
        "id": "kGRpexVXHmfs"
      },
      "execution_count": null,
      "outputs": []
    },
    {
      "cell_type": "code",
      "source": [
        "!apt-get install swig cmake libopenmpi-dev zlib1g-dev xvfb x11-utils ghostscript ffmpeg -qq #remove -qq for full output\n",
        "!pip install pyvirtualdisplay ghostscript"
      ],
      "metadata": {
        "colab": {
          "base_uri": "https://localhost:8080/"
        },
        "id": "RZTZ6Q0M5luO",
        "outputId": "c0809609-fdc8-4745-f6c6-52829c13315d"
      },
      "execution_count": null,
      "outputs": [
        {
          "output_type": "stream",
          "name": "stdout",
          "text": [
            "Selecting previously unselected package fonts-droid-fallback.\n",
            "(Reading database ... 128126 files and directories currently installed.)\n",
            "Preparing to unpack .../00-fonts-droid-fallback_1%3a6.0.1r16-1.1_all.deb ...\n",
            "Unpacking fonts-droid-fallback (1:6.0.1r16-1.1) ...\n",
            "Selecting previously unselected package poppler-data.\n",
            "Preparing to unpack .../01-poppler-data_0.4.9-2_all.deb ...\n",
            "Unpacking poppler-data (0.4.9-2) ...\n",
            "Selecting previously unselected package fonts-noto-mono.\n",
            "Preparing to unpack .../02-fonts-noto-mono_20200323-1build1~ubuntu20.04.1_all.deb ...\n",
            "Unpacking fonts-noto-mono (20200323-1build1~ubuntu20.04.1) ...\n",
            "Selecting previously unselected package fonts-urw-base35.\n",
            "Preparing to unpack .../03-fonts-urw-base35_20170801.1-3_all.deb ...\n",
            "Unpacking fonts-urw-base35 (20170801.1-3) ...\n",
            "Selecting previously unselected package libgs9-common.\n",
            "Preparing to unpack .../04-libgs9-common_9.50~dfsg-5ubuntu4.6_all.deb ...\n",
            "Unpacking libgs9-common (9.50~dfsg-5ubuntu4.6) ...\n",
            "Selecting previously unselected package libidn11:amd64.\n",
            "Preparing to unpack .../05-libidn11_1.33-2.2ubuntu2_amd64.deb ...\n",
            "Unpacking libidn11:amd64 (1.33-2.2ubuntu2) ...\n",
            "Selecting previously unselected package libijs-0.35:amd64.\n",
            "Preparing to unpack .../06-libijs-0.35_0.35-15_amd64.deb ...\n",
            "Unpacking libijs-0.35:amd64 (0.35-15) ...\n",
            "Selecting previously unselected package libjbig2dec0:amd64.\n",
            "Preparing to unpack .../07-libjbig2dec0_0.18-1ubuntu1_amd64.deb ...\n",
            "Unpacking libjbig2dec0:amd64 (0.18-1ubuntu1) ...\n",
            "Selecting previously unselected package libgs9:amd64.\n",
            "Preparing to unpack .../08-libgs9_9.50~dfsg-5ubuntu4.6_amd64.deb ...\n",
            "Unpacking libgs9:amd64 (9.50~dfsg-5ubuntu4.6) ...\n",
            "Selecting previously unselected package ghostscript.\n",
            "Preparing to unpack .../09-ghostscript_9.50~dfsg-5ubuntu4.6_amd64.deb ...\n",
            "Unpacking ghostscript (9.50~dfsg-5ubuntu4.6) ...\n",
            "Selecting previously unselected package libxxf86dga1:amd64.\n",
            "Preparing to unpack .../10-libxxf86dga1_2%3a1.1.5-0ubuntu1_amd64.deb ...\n",
            "Unpacking libxxf86dga1:amd64 (2:1.1.5-0ubuntu1) ...\n",
            "Selecting previously unselected package swig4.0.\n",
            "Preparing to unpack .../11-swig4.0_4.0.1-5build1_amd64.deb ...\n",
            "Unpacking swig4.0 (4.0.1-5build1) ...\n",
            "Selecting previously unselected package swig.\n",
            "Preparing to unpack .../12-swig_4.0.1-5build1_all.deb ...\n",
            "Unpacking swig (4.0.1-5build1) ...\n",
            "Selecting previously unselected package x11-utils.\n",
            "Preparing to unpack .../13-x11-utils_7.7+5_amd64.deb ...\n",
            "Unpacking x11-utils (7.7+5) ...\n",
            "Selecting previously unselected package xvfb.\n",
            "Preparing to unpack .../14-xvfb_2%3a1.20.13-1ubuntu1~20.04.6_amd64.deb ...\n",
            "Unpacking xvfb (2:1.20.13-1ubuntu1~20.04.6) ...\n",
            "Setting up fonts-noto-mono (20200323-1build1~ubuntu20.04.1) ...\n",
            "Setting up libijs-0.35:amd64 (0.35-15) ...\n",
            "Setting up xvfb (2:1.20.13-1ubuntu1~20.04.6) ...\n",
            "Setting up libxxf86dga1:amd64 (2:1.1.5-0ubuntu1) ...\n",
            "Setting up fonts-urw-base35 (20170801.1-3) ...\n",
            "Setting up poppler-data (0.4.9-2) ...\n",
            "Setting up libjbig2dec0:amd64 (0.18-1ubuntu1) ...\n",
            "Setting up libidn11:amd64 (1.33-2.2ubuntu2) ...\n",
            "Setting up x11-utils (7.7+5) ...\n",
            "Setting up fonts-droid-fallback (1:6.0.1r16-1.1) ...\n",
            "Setting up swig4.0 (4.0.1-5build1) ...\n",
            "Setting up libgs9-common (9.50~dfsg-5ubuntu4.6) ...\n",
            "Setting up swig (4.0.1-5build1) ...\n",
            "Setting up libgs9:amd64 (9.50~dfsg-5ubuntu4.6) ...\n",
            "Setting up ghostscript (9.50~dfsg-5ubuntu4.6) ...\n",
            "Processing triggers for fontconfig (2.13.1-2ubuntu3) ...\n",
            "Processing triggers for libc-bin (2.31-0ubuntu9.9) ...\n",
            "Processing triggers for man-db (2.9.1-1) ...\n",
            "Looking in indexes: https://pypi.org/simple, https://us-python.pkg.dev/colab-wheels/public/simple/\n",
            "Collecting pyvirtualdisplay\n",
            "  Downloading PyVirtualDisplay-3.0-py3-none-any.whl (15 kB)\n",
            "Collecting ghostscript\n",
            "  Downloading ghostscript-0.7-py2.py3-none-any.whl (25 kB)\n",
            "Requirement already satisfied: setuptools>=38.6.0 in /usr/local/lib/python3.8/dist-packages (from ghostscript) (57.4.0)\n",
            "Installing collected packages: pyvirtualdisplay, ghostscript\n",
            "Successfully installed ghostscript-0.7 pyvirtualdisplay-3.0\n"
          ]
        }
      ]
    },
    {
      "cell_type": "code",
      "source": [
        "import os\n",
        "os.system(\"Xvfb :1 -screen 0 1024x768x24 &\")\n",
        "os.environ['DISPLAY'] = ':1'\n",
        "from tkinter import *\n",
        "from google.colab.patches import cv2_imshow\n",
        "from google.colab import output\n",
        "from PIL import Image"
      ],
      "metadata": {
        "id": "YaMQdwgW6hm2"
      },
      "execution_count": null,
      "outputs": []
    },
    {
      "cell_type": "code",
      "source": [
        "from tkinter import * \n",
        "import os"
      ],
      "metadata": {
        "id": "K4ej2WQc2DC8"
      },
      "execution_count": null,
      "outputs": []
    },
    {
      "cell_type": "code",
      "source": [
        "from matplotlib.pyplot import *\n",
        "from matplotlib.widgets import *\n",
        "from math import *\n",
        "from random import *\n",
        "from numpy import *\n",
        "from tkinter import *"
      ],
      "metadata": {
        "id": "2WmsU7mw4fxC"
      },
      "execution_count": null,
      "outputs": []
    },
    {
      "cell_type": "code",
      "source": [
        "def destroyPackWidget(parent):\n",
        "  for e in parent.pack_slaves():\n",
        "    e.destroy()\n",
        "def register():\n",
        "  global root,register_screen\n",
        "  destroyPackWidget(root)\n",
        "  register_screen=root\n",
        "#    register_screen = Toplevel(main_screen)\n",
        "  register_screen.title(\"Register\")\n",
        "  register_screen.geometry(\"300x250\")\n",
        "  global username\n",
        "  global password\n",
        "  global username_entry\n",
        "  global password_entry\n",
        "  username = StringVar()\n",
        "  password = StringVar()\n",
        "  Label(register_screen, text=\"Please enter the details below\", bg=\"blue\").pack()\n",
        "  Label(register_screen, text=\"\").pack()\n",
        "  username_lable = Label(register_screen, text=\"Username * \")\n",
        "  username_lable.pack()\n",
        "  username_entry = Entry(register_screen, textvariable=username)\n",
        "  username_entry.pack()\n",
        "  password_lable = Label(register_screen, text=\"Password * \")\n",
        "  password_lable.pack()\n",
        "  password_entry = Entry(register_screen, textvariable=password, show='*')\n",
        "  password_entry.pack()\n",
        "  Label(register_screen, text=\"\").pack()\n",
        "  Button(register_screen, text=\"Register\", width=10, height=1, bg=\"blue\", command=register_user).pack()\n",
        "\n"
      ],
      "metadata": {
        "id": "J7JuwfivvhmZ"
      },
      "execution_count": null,
      "outputs": []
    },
    {
      "cell_type": "code",
      "source": [
        "def login():\n",
        "  global login_screen\n",
        "  login_screen = Toplevel(main_screen)\n",
        "  login_screen.title(\"Login\")\n",
        "  login_screen.geometry(\"300x250\")\n",
        "  Label(login_screen, text=\"Please enter details below to login\").pack()\n",
        "  Label(login_screen, text=\"\").pack()\n",
        "  global username_verify\n",
        "  global password_verify\n",
        "  username_verify = StringVar()\n",
        "  password_verify = StringVar()\n",
        "  global username_login_entry\n",
        "  global password_login_entry\n",
        "  Label(login_screen, text=\"Username * \").pack()\n",
        "  username_login_entry = Entry(login_screen, textvariable=username_verify)\n",
        "  username_login_entry.pack()\n",
        "  Label(login_screen, text=\"\").pack()\n",
        "  Label(login_screen, text=\"Password * \").pack()\n",
        "  password_login_entry = Entry(login_screen, textvariable=password_verify, show='*')\n",
        "  password_login_entry.pack()\n",
        "  Label(login_screen, text=\"\").pack()\n",
        "  Button(login_screen, text=\"Login\", width=10, height=1, command=login_verify).pack()"
      ],
      "metadata": {
        "id": "lxPXT2xNzkwv"
      },
      "execution_count": null,
      "outputs": []
    },
    {
      "cell_type": "code",
      "source": [
        "def btnSucess_Click():\n",
        "  global root\n",
        "  destroyPackWidget(root)\n",
        "def register_user():\n",
        "  global root,username,password\n",
        "  username_info = username.get()\n",
        "  password_info = password.get()\n",
        "  print(\"abc\",username_info,password_info,\"xyz\")\n",
        "  file = open(username_info, \"w\")\n",
        "  file.write(username_info + \"\\n\")\n",
        "  file.write(password_info)\n",
        "  file.close()\n",
        "  username_entry.delete(0, END)\n",
        "  password_entry.delete(0, END)\n",
        "  Label(root, text=\"Registration Success\", fg=\"green\", font=(\"calibri\", 11)).pack()\n",
        "  Button(root,text=\"Click Here to proceed\",command=btnSucess_Click).pack()"
      ],
      "metadata": {
        "id": "p8V4r8Nnz711"
      },
      "execution_count": null,
      "outputs": []
    },
    {
      "cell_type": "code",
      "source": [
        "def login_verify():\n",
        "  username1 = username_verify.get()\n",
        "  password1 = password_verify.get()\n",
        "  username_login_entry.delete(0, END)\n",
        "  password_login_entry.delete(0, END)\n",
        "  list_of_files = os.listdir()\n",
        "  if username1 in list_of_files:\n",
        "    file1 = open(username1, \"r\")\n",
        "    verify = file1.read().splitlines()\n",
        "    if password1 in verify:\n",
        "      login_sucess()\n",
        "    else:\n",
        "      password_not_recognised()\n",
        "  else:\n",
        "    user_not_found()"
      ],
      "metadata": {
        "id": "dKMy5C_50OZ6"
      },
      "execution_count": null,
      "outputs": []
    },
    {
      "cell_type": "code",
      "source": [
        "def login_sucess():\n",
        "  global login_success_screen\n",
        "  login_success_screen = Toplevel(login_screen)\n",
        "  login_success_screen.title(\"Success\")\n",
        "  login_success_screen.geometry(\"150x100\")\n",
        "  Label(login_success_screen, text=\"Login Success\").pack()\n",
        "  Button(login_success_screen, text=\"OK\", command=delete_login_success).pack()"
      ],
      "metadata": {
        "id": "1OYzP_fn0vbt"
      },
      "execution_count": null,
      "outputs": []
    },
    {
      "cell_type": "code",
      "source": [
        "def password_not_recognised():\n",
        "  global password_not_recog_screen\n",
        "  password_not_recog_screen = Toplevel(login_screen)\n",
        "  password_not_recog_screen.title(\"Success\")\n",
        "  password_not_recog_screen.geometry(\"150x100\")\n",
        "  Label(password_not_recog_screen, text=\"Invalid Password \").pack()\n",
        "  Button(password_not_recog_screen, text=\"OK\", command=delete_password_not_recognised).pack()\n"
      ],
      "metadata": {
        "id": "rJ6N__J_03CB"
      },
      "execution_count": null,
      "outputs": []
    },
    {
      "cell_type": "code",
      "source": [
        "def user_not_found():\n",
        "  global user_not_found_screen\n",
        "  user_not_found_screen = Toplevel(login_screen)\n",
        "  user_not_found_screen.title(\"Success\")\n",
        "  user_not_found_screen.geometry(\"150x100\")\n",
        "  Label(user_not_found_screen, text=\"User Not Found\").pack()\n",
        "  Button(user_not_found_screen, text=\"OK\", command=delete_user_not_found_screen).pack()"
      ],
      "metadata": {
        "id": "2bjGoxhT1BZb"
      },
      "execution_count": null,
      "outputs": []
    },
    {
      "cell_type": "code",
      "source": [
        "def delete_login_success():\n",
        "  login_success_screen.destroy()"
      ],
      "metadata": {
        "id": "JWOGP_dm1KV5"
      },
      "execution_count": null,
      "outputs": []
    },
    {
      "cell_type": "code",
      "source": [
        "def delete_password_not_recognised():\n",
        "  password_not_recog_screen.destroy()"
      ],
      "metadata": {
        "id": "fF1W8pbs1PPF"
      },
      "execution_count": null,
      "outputs": []
    },
    {
      "cell_type": "code",
      "source": [
        "def delete_user_not_found_screen():\n",
        "  user_not_found_screen.destroy()\n",
        "def main_account_screen(frmmain):\n",
        "  main_screen=frmmain\n",
        "  main_screen.geometry(\"300x250\")\n",
        "  main_screen.title(\"Account Login\")\n",
        "  Label(main_screen,text=\"Select Your Choice\", bg=\"blue\", width=\"300\", height=\"2\", font=(\"Calibri\", 13)).pack()\n",
        "  Label(main_screen,text=\"\").pack()\n",
        "  Button(main_screen,text=\"Login\", height=\"2\", width=\"30\", command=login).pack()\n",
        "  Label(main_screen,text=\"\").pack()\n",
        "  Button(main_screen,text=\"Register\", height=\"2\", width=\"30\", command=register).pack()\n",
        "root = Tk()\n",
        "main_account_screen(root)\n",
        "root.mainloop()\n"
      ],
      "metadata": {
        "id": "hqT5fDXD1TRC",
        "colab": {
          "base_uri": "https://localhost:8080/",
          "height": 235
        },
        "outputId": "c7ae04c8-98b3-4e47-9c7b-c7843d0f049f"
      },
      "execution_count": null,
      "outputs": [
        {
          "output_type": "error",
          "ename": "TypeError",
          "evalue": "ignored",
          "traceback": [
            "\u001b[0;31m---------------------------------------------------------------------------\u001b[0m",
            "\u001b[0;31mTypeError\u001b[0m                                 Traceback (most recent call last)",
            "\u001b[0;32m<ipython-input-4-f700963340a5>\u001b[0m in \u001b[0;36m<module>\u001b[0;34m\u001b[0m\n\u001b[1;32m     10\u001b[0m   \u001b[0mLabel\u001b[0m\u001b[0;34m(\u001b[0m\u001b[0mmain_screen\u001b[0m\u001b[0;34m,\u001b[0m\u001b[0mtext\u001b[0m\u001b[0;34m=\u001b[0m\u001b[0;34m\"\"\u001b[0m\u001b[0;34m)\u001b[0m\u001b[0;34m.\u001b[0m\u001b[0mpack\u001b[0m\u001b[0;34m(\u001b[0m\u001b[0;34m)\u001b[0m\u001b[0;34m\u001b[0m\u001b[0;34m\u001b[0m\u001b[0m\n\u001b[1;32m     11\u001b[0m   \u001b[0mButton\u001b[0m\u001b[0;34m(\u001b[0m\u001b[0mmain_screen\u001b[0m\u001b[0;34m,\u001b[0m\u001b[0mtext\u001b[0m\u001b[0;34m=\u001b[0m\u001b[0;34m\"Register\"\u001b[0m\u001b[0;34m,\u001b[0m \u001b[0mheight\u001b[0m\u001b[0;34m=\u001b[0m\u001b[0;34m\"2\"\u001b[0m\u001b[0;34m,\u001b[0m \u001b[0mwidth\u001b[0m\u001b[0;34m=\u001b[0m\u001b[0;34m\"30\"\u001b[0m\u001b[0;34m,\u001b[0m \u001b[0mcommand\u001b[0m\u001b[0;34m=\u001b[0m\u001b[0mregister\u001b[0m\u001b[0;34m)\u001b[0m\u001b[0;34m.\u001b[0m\u001b[0mpack\u001b[0m\u001b[0;34m(\u001b[0m\u001b[0;34m)\u001b[0m\u001b[0;34m\u001b[0m\u001b[0;34m\u001b[0m\u001b[0m\n\u001b[0;32m---> 12\u001b[0;31m \u001b[0mroot\u001b[0m \u001b[0;34m=\u001b[0m \u001b[0mTk\u001b[0m\u001b[0;34m(\u001b[0m\u001b[0;34m)\u001b[0m\u001b[0;34m\u001b[0m\u001b[0;34m\u001b[0m\u001b[0m\n\u001b[0m\u001b[1;32m     13\u001b[0m \u001b[0mmain_account_screen\u001b[0m\u001b[0;34m(\u001b[0m\u001b[0mroot\u001b[0m\u001b[0;34m)\u001b[0m\u001b[0;34m\u001b[0m\u001b[0;34m\u001b[0m\u001b[0m\n\u001b[1;32m     14\u001b[0m \u001b[0mroot\u001b[0m\u001b[0;34m.\u001b[0m\u001b[0mmainloop\u001b[0m\u001b[0;34m(\u001b[0m\u001b[0;34m)\u001b[0m\u001b[0;34m\u001b[0m\u001b[0;34m\u001b[0m\u001b[0m\n",
            "\u001b[0;31mTypeError\u001b[0m: 'module' object is not callable"
          ]
        }
      ]
    },
    {
      "cell_type": "code",
      "source": [
        "import numpy as np\n",
        "import matplotlib.pyplot as plt\n",
        "import pandas as pd"
      ],
      "metadata": {
        "id": "fZzXOiYRvWcQ"
      },
      "execution_count": 2,
      "outputs": []
    },
    {
      "cell_type": "code",
      "source": [
        "training_dataset = pd.read_csv('/content/drive/MyDrive/SELF DIAGNOSIS MEDICAL CHATBOT/Training.csv')\n",
        "test_dataset = pd.read_csv('/content/drive/MyDrive/SELF DIAGNOSIS MEDICAL CHATBOT/Testing.csv')"
      ],
      "metadata": {
        "id": "uT8DeFS9Y7GE"
      },
      "execution_count": 3,
      "outputs": []
    },
    {
      "cell_type": "code",
      "source": [
        "from google.colab import drive\n",
        "drive.mount('/content/drive')"
      ],
      "metadata": {
        "colab": {
          "base_uri": "https://localhost:8080/"
        },
        "id": "UGbfUHUsZcif",
        "outputId": "5e67ac8a-d83f-4398-850f-b62123d153d0"
      },
      "execution_count": 4,
      "outputs": [
        {
          "output_type": "stream",
          "name": "stdout",
          "text": [
            "Drive already mounted at /content/drive; to attempt to forcibly remount, call drive.mount(\"/content/drive\", force_remount=True).\n"
          ]
        }
      ]
    },
    {
      "cell_type": "code",
      "source": [
        "X = training_dataset.iloc[:, 0:132].values\n",
        "print(X)\n",
        "y = training_dataset.iloc[:, -1].values\n",
        "print(y)\n"
      ],
      "metadata": {
        "colab": {
          "base_uri": "https://localhost:8080/"
        },
        "id": "vP_ZOkbwZ4rO",
        "outputId": "e96d90f1-6959-4003-bffc-b466e9382067"
      },
      "execution_count": 5,
      "outputs": [
        {
          "output_type": "stream",
          "name": "stdout",
          "text": [
            "[[1 1 1 ... 0 0 0]\n",
            " [0 1 1 ... 0 0 0]\n",
            " [1 0 1 ... 0 0 0]\n",
            " ...\n",
            " [0 0 0 ... 0 0 0]\n",
            " [0 1 0 ... 0 0 0]\n",
            " [0 1 0 ... 1 1 1]]\n",
            "['Fungal infection' 'Fungal infection' 'Fungal infection' ...\n",
            " 'Urinary tract infection' 'Psoriasis' 'Impetigo']\n"
          ]
        }
      ]
    },
    {
      "cell_type": "code",
      "source": [
        "dimensionality_reduction = training_dataset.groupby(training_dataset['prognosis']).max()\n",
        "#print(dimensionality_reduction)"
      ],
      "metadata": {
        "id": "lFIbzYzgaGGe"
      },
      "execution_count": 6,
      "outputs": []
    },
    {
      "cell_type": "code",
      "source": [
        "from sklearn.preprocessing import LabelEncoder\n",
        "labelencoder = LabelEncoder()\n",
        "y = labelencoder.fit_transform(y)\n",
        "print(y)"
      ],
      "metadata": {
        "colab": {
          "base_uri": "https://localhost:8080/"
        },
        "id": "2cJiWcLdaNC6",
        "outputId": "d9c73e67-c562-47bd-e7c3-81eb3a5f43d5"
      },
      "execution_count": 7,
      "outputs": [
        {
          "output_type": "stream",
          "name": "stdout",
          "text": [
            "[15 15 15 ... 38 35 27]\n"
          ]
        }
      ]
    },
    {
      "cell_type": "code",
      "source": [
        "from sklearn.model_selection import train_test_split\n",
        "X_train, X_test, y_train, y_test = train_test_split(X, y, test_size = 0.25, random_state = 0)"
      ],
      "metadata": {
        "id": "h3pTlBfEaUzW"
      },
      "execution_count": 8,
      "outputs": []
    },
    {
      "cell_type": "code",
      "source": [
        "from sklearn.tree import DecisionTreeClassifier\n",
        "classifier = DecisionTreeClassifier()\n",
        "classifier.fit(X_train, y_train)"
      ],
      "metadata": {
        "colab": {
          "base_uri": "https://localhost:8080/"
        },
        "id": "1JGIFnsSaZwX",
        "outputId": "a4639265-987f-4e35-d8d4-45af0b9b1758"
      },
      "execution_count": 9,
      "outputs": [
        {
          "output_type": "execute_result",
          "data": {
            "text/plain": [
              "DecisionTreeClassifier()"
            ]
          },
          "metadata": {},
          "execution_count": 9
        }
      ]
    },
    {
      "cell_type": "code",
      "source": [
        "cols     = training_dataset.columns\n",
        "cols     = cols[:-1]"
      ],
      "metadata": {
        "id": "NRtiAEnsag92"
      },
      "execution_count": 10,
      "outputs": []
    },
    {
      "cell_type": "code",
      "source": [
        "importances = classifier.feature_importances_\n",
        "indices = np.argsort(importances)[::-1]\n",
        "features = cols"
      ],
      "metadata": {
        "id": "Yk5u2IF2amH4"
      },
      "execution_count": 11,
      "outputs": []
    },
    {
      "cell_type": "code",
      "source": [
        "from sklearn.tree import _tree"
      ],
      "metadata": {
        "id": "JPTvAEgfarPP"
      },
      "execution_count": 12,
      "outputs": []
    },
    {
      "cell_type": "code",
      "source": [
        "def execute_bot():\n",
        "  #print(\"Please reply with yes/Yes or no/No for the following symptoms\") \n",
        "  def print_disease(node):\n",
        "    print(node)\n",
        "    node = node[0]\n",
        "    print(len(node))\n",
        "    val  = node.nonzero() \n",
        "    print(val)\n",
        "    disease = labelencoder.inverse_transform(val[0])\n",
        "    return disease\n",
        "  def tree_to_code(tree, feature_names):\n",
        "    tree_ = tree.tree_\n",
        "    print(tree_)\n",
        "    feature_name = [\n",
        "        feature_names[i] if i != _tree.TREE_UNDEFINED else \"undefined!\"\n",
        "        for i in tree_.feature\n",
        "    ]\n",
        "    print(\"def tree({}):\".format(\", \".join(feature_names)))\n",
        "    symptoms_present = []\n",
        "    def recurse(node, depth):\n",
        "      indent = \"  \" * depth\n",
        "      if tree_.feature[node] != _tree.TREE_UNDEFINED:\n",
        "        name = feature_name[node]\n",
        "        threshold = tree_.threshold[node]\n",
        "        #print(\"threshold\")\n",
        "        print(name + \" ?\")\n",
        "        ans = input()\n",
        "        ans = ans.lower()\n",
        "        if ans == 'yes':\n",
        "          val = 1\n",
        "        else:\n",
        "          val = 0\n",
        "        if  val <= threshold:\n",
        "          recurse(tree_.children_left[node], depth + 1)\n",
        "        else:\n",
        "          symptoms_present.append(name)\n",
        "          recurse(tree_.children_right[node], depth + 1)\n",
        "      else:\n",
        "        present_disease = print_disease(tree_.value[node])\n",
        "        print( \"You may have \" +  present_disease )\n",
        "        print()\n",
        "        red_cols = dimensionality_reduction.columns \n",
        "        symptoms_given = red_cols[dimensionality_reduction.loc[present_disease].values[0].nonzero()]\n",
        "        print(\"symptoms present  \" + str(list(symptoms_present)))\n",
        "        print()\n",
        "        print(\"symptoms given \"  +  str(list(symptoms_given)) )  \n",
        "        print()\n",
        "        confidence_level = (1.0*len(symptoms_present))/len(symptoms_given)\n",
        "        print(\"confidence level is \" + str(confidence_level))\n",
        "        print()\n",
        "        print('The model suggests:')\n",
        "        print()\n",
        "        row = doctors[doctors['disease'] == present_disease[0]]\n",
        "        #print('Consult ', str(row['name'].values))\n",
        "        print()\n",
        "        print('Visit ', str(row['link'].values))\n",
        "        #print(present_disease[0])\n",
        "    recurse(0, 1)\n",
        "  tree_to_code(classifier,cols)\n",
        "doc_dataset = pd.read_csv('/content/drive/MyDrive/SELF DIAGNOSIS MEDICAL CHATBOT/doctors_dataset.htm', names = ['Name', 'Description'])\n",
        "diseases = dimensionality_reduction.index\n",
        "diseases = pd.DataFrame(diseases)\n",
        "\n",
        "doctors = pd.DataFrame()\n",
        "doctors['name'] = np.nan\n",
        "doctors['link'] = np.nan\n",
        "doctors['disease'] = np.nan\n",
        "\n",
        "doctors['disease'] = diseases['prognosis']\n",
        "\n",
        "\n",
        "doctors['name'] = doc_dataset['Name']\n",
        "doctors['link'] = doc_dataset['Description']\n",
        "\n",
        "record = doctors[doctors['disease'] == 'AIDS']\n",
        "record['name']\n",
        "record['link']\n",
        "\n",
        "\n",
        "\n",
        "\n",
        "# Execute the bot and see it in Action\n",
        "execute_bot()\n",
        "  \n",
        "\n",
        "\n",
        "\n",
        "\n",
        "\n",
        "                "
      ],
      "metadata": {
        "id": "NX87bZOfaxpC",
        "colab": {
          "base_uri": "https://localhost:8080/"
        },
        "outputId": "fcc6ae1a-3048-4acc-846c-bbc0c21f710e"
      },
      "execution_count": 16,
      "outputs": [
        {
          "output_type": "stream",
          "name": "stdout",
          "text": [
            "<sklearn.tree._tree.Tree object at 0x7f8e02d58f80>\n",
            "def tree(itching, skin_rash, nodal_skin_eruptions, continuous_sneezing, shivering, chills, joint_pain, stomach_pain, acidity, ulcers_on_tongue, muscle_wasting, vomiting, burning_micturition, spotting_ urination, fatigue, weight_gain, anxiety, cold_hands_and_feets, mood_swings, weight_loss, restlessness, lethargy, patches_in_throat, irregular_sugar_level, cough, high_fever, sunken_eyes, breathlessness, sweating, dehydration, indigestion, headache, yellowish_skin, dark_urine, nausea, loss_of_appetite, pain_behind_the_eyes, back_pain, constipation, abdominal_pain, diarrhoea, mild_fever, yellow_urine, yellowing_of_eyes, acute_liver_failure, fluid_overload, swelling_of_stomach, swelled_lymph_nodes, malaise, blurred_and_distorted_vision, phlegm, throat_irritation, redness_of_eyes, sinus_pressure, runny_nose, congestion, chest_pain, weakness_in_limbs, fast_heart_rate, pain_during_bowel_movements, pain_in_anal_region, bloody_stool, irritation_in_anus, neck_pain, dizziness, cramps, bruising, obesity, swollen_legs, swollen_blood_vessels, puffy_face_and_eyes, enlarged_thyroid, brittle_nails, swollen_extremeties, excessive_hunger, extra_marital_contacts, drying_and_tingling_lips, slurred_speech, knee_pain, hip_joint_pain, muscle_weakness, stiff_neck, swelling_joints, movement_stiffness, spinning_movements, loss_of_balance, unsteadiness, weakness_of_one_body_side, loss_of_smell, bladder_discomfort, foul_smell_of urine, continuous_feel_of_urine, passage_of_gases, internal_itching, toxic_look_(typhos), depression, irritability, muscle_pain, altered_sensorium, red_spots_over_body, belly_pain, abnormal_menstruation, dischromic _patches, watering_from_eyes, increased_appetite, polyuria, family_history, mucoid_sputum, rusty_sputum, lack_of_concentration, visual_disturbances, receiving_blood_transfusion, receiving_unsterile_injections, coma, stomach_bleeding, distention_of_abdomen, history_of_alcohol_consumption, fluid_overload.1, blood_in_sputum, prominent_veins_on_calf, palpitations, painful_walking, pus_filled_pimples, blackheads, scurring, skin_peeling, silver_like_dusting, small_dents_in_nails, inflammatory_nails, blister, red_sore_around_nose, yellow_crust_ooze):\n",
            "palpitations ?\n",
            "YES\n",
            "[[  0.   0.   0.   0.   0.   0.   0.   0.   0.   0.   0.   0.   0.   0.\n",
            "    0.   0.   0.   0.   0.   0.   0.   0.   0.   0.   0. 101.   0.   0.\n",
            "    0.   0.   0.   0.   0.   0.   0.   0.   0.   0.   0.   0.   0.]]\n",
            "41\n",
            "(array([25]),)\n",
            "['You may have Hypoglycemia']\n",
            "\n",
            "symptoms present  ['palpitations']\n",
            "\n",
            "symptoms given ['vomiting', 'fatigue', 'anxiety', 'sweating', 'headache', 'nausea', 'blurred_and_distorted_vision', 'excessive_hunger', 'drying_and_tingling_lips', 'slurred_speech', 'irritability', 'palpitations']\n",
            "\n",
            "confidence level is 0.08333333333333333\n",
            "\n",
            "The model suggests:\n",
            "\n",
            "\n",
            "Visit  [nan]\n"
          ]
        }
      ]
    },
    {
      "cell_type": "markdown",
      "source": [
        "# New Section"
      ],
      "metadata": {
        "id": "u1OFY_EAPJwF"
      }
    },
    {
      "cell_type": "code",
      "source": [
        "\n",
        "\n",
        "\n",
        "\n"
      ],
      "metadata": {
        "colab": {
          "base_uri": "https://localhost:8080/",
          "height": 235
        },
        "id": "AFS0LP_oOCvN",
        "outputId": "0c5e9a21-feda-416a-f6d0-8a11c28024c1"
      },
      "execution_count": 23,
      "outputs": [
        {
          "output_type": "error",
          "ename": "NameError",
          "evalue": "ignored",
          "traceback": [
            "\u001b[0;31m---------------------------------------------------------------------------\u001b[0m",
            "\u001b[0;31mNameError\u001b[0m                                 Traceback (most recent call last)",
            "\u001b[0;32m<ipython-input-23-d4bd0c9f75be>\u001b[0m in \u001b[0;36m<module>\u001b[0;34m\u001b[0m\n\u001b[1;32m     10\u001b[0m \u001b[0;34m\u001b[0m\u001b[0m\n\u001b[1;32m     11\u001b[0m \u001b[0;34m\u001b[0m\u001b[0m\n\u001b[0;32m---> 12\u001b[0;31m \u001b[0mdoctors\u001b[0m\u001b[0;34m[\u001b[0m\u001b[0;34m'name'\u001b[0m\u001b[0;34m]\u001b[0m \u001b[0;34m=\u001b[0m \u001b[0mdoc_dataset\u001b[0m\u001b[0;34m[\u001b[0m\u001b[0;34m'Name'\u001b[0m\u001b[0;34m]\u001b[0m\u001b[0;34m\u001b[0m\u001b[0;34m\u001b[0m\u001b[0m\n\u001b[0m\u001b[1;32m     13\u001b[0m \u001b[0mdoctors\u001b[0m\u001b[0;34m[\u001b[0m\u001b[0;34m'link'\u001b[0m\u001b[0;34m]\u001b[0m \u001b[0;34m=\u001b[0m \u001b[0mdoc_dataset\u001b[0m\u001b[0;34m[\u001b[0m\u001b[0;34m'Description'\u001b[0m\u001b[0;34m]\u001b[0m\u001b[0;34m\u001b[0m\u001b[0;34m\u001b[0m\u001b[0m\n\u001b[1;32m     14\u001b[0m \u001b[0;34m\u001b[0m\u001b[0m\n",
            "\u001b[0;31mNameError\u001b[0m: name 'doc_dataset' is not defined"
          ]
        }
      ]
    }
  ]
}